{
 "cells": [
  {
   "cell_type": "code",
   "execution_count": 1,
   "metadata": {},
   "outputs": [
    {
     "name": "stderr",
     "output_type": "stream",
     "text": [
      "c:\\Users\\karim.HOME\\AppData\\Local\\Programs\\Python\\Python310\\lib\\site-packages\\tqdm\\auto.py:22: TqdmWarning: IProgress not found. Please update jupyter and ipywidgets. See https://ipywidgets.readthedocs.io/en/stable/user_install.html\n",
      "  from .autonotebook import tqdm as notebook_tqdm\n"
     ]
    },
    {
     "data": {
      "text/html": [
       "<div>\n",
       "<style scoped>\n",
       "    .dataframe tbody tr th:only-of-type {\n",
       "        vertical-align: middle;\n",
       "    }\n",
       "\n",
       "    .dataframe tbody tr th {\n",
       "        vertical-align: top;\n",
       "    }\n",
       "\n",
       "    .dataframe thead th {\n",
       "        text-align: right;\n",
       "    }\n",
       "</style>\n",
       "<table border=\"1\" class=\"dataframe\">\n",
       "  <thead>\n",
       "    <tr style=\"text-align: right;\">\n",
       "      <th></th>\n",
       "      <th>title</th>\n",
       "      <th>published_at</th>\n",
       "      <th>source</th>\n",
       "      <th>link</th>\n",
       "      <th>content</th>\n",
       "      <th>category</th>\n",
       "      <th>date</th>\n",
       "      <th>sentiment_label</th>\n",
       "      <th>sentiment_category</th>\n",
       "    </tr>\n",
       "  </thead>\n",
       "  <tbody>\n",
       "    <tr>\n",
       "      <th>0</th>\n",
       "      <td>Attentat de Moscou : en Turquie, la traque des...</td>\n",
       "      <td>Wed, 27 Mar 2024 10:42:00 +0100</td>\n",
       "      <td>Le Monde</td>\n",
       "      <td>https://www.lemonde.fr/international/article/2...</td>\n",
       "      <td>La nouvelle est tombée peu après midi. Dans la...</td>\n",
       "      <td>international</td>\n",
       "      <td>2024-03-27 10:42:00</td>\n",
       "      <td>4 stars</td>\n",
       "      <td>positive</td>\n",
       "    </tr>\n",
       "    <tr>\n",
       "      <th>1</th>\n",
       "      <td>Les responsables de « Quotidien » assurent que...</td>\n",
       "      <td>Wed, 27 Mar 2024 12:44:58 +0100</td>\n",
       "      <td>Le Monde</td>\n",
       "      <td>https://www.lemonde.fr/actualite-medias/articl...</td>\n",
       "      <td>Les responsables de l’émission « Quotidien », ...</td>\n",
       "      <td>actualite-medias</td>\n",
       "      <td>2024-03-27 12:44:58</td>\n",
       "      <td>4 stars</td>\n",
       "      <td>positive</td>\n",
       "    </tr>\n",
       "    <tr>\n",
       "      <th>2</th>\n",
       "      <td>Gabriel Attal et la « théorie du chômage volon...</td>\n",
       "      <td>Wed, 27 Mar 2024 09:22:11 +0100</td>\n",
       "      <td>Le Monde</td>\n",
       "      <td>https://www.lemonde.fr/politique/article/2024/...</td>\n",
       "      <td>Depuis son arrivée à Matignon, Gabriel Attal e...</td>\n",
       "      <td>politique</td>\n",
       "      <td>2024-03-27 09:22:11</td>\n",
       "      <td>4 stars</td>\n",
       "      <td>positive</td>\n",
       "    </tr>\n",
       "    <tr>\n",
       "      <th>3</th>\n",
       "      <td>Andriy Kostin, procureur général d’Ukraine : «...</td>\n",
       "      <td>Wed, 27 Mar 2024 10:00:02 +0100</td>\n",
       "      <td>Le Monde</td>\n",
       "      <td>https://www.lemonde.fr/idees/article/2024/03/2...</td>\n",
       "      <td>Les Ukrainiens sont sur la ligne de front, et ...</td>\n",
       "      <td>idees</td>\n",
       "      <td>2024-03-27 10:00:02</td>\n",
       "      <td>1 star</td>\n",
       "      <td>very negative</td>\n",
       "    </tr>\n",
       "    <tr>\n",
       "      <th>4</th>\n",
       "      <td>Moody’s juge « improbable » que la France tien...</td>\n",
       "      <td>Wed, 27 Mar 2024 15:11:12 +0100</td>\n",
       "      <td>Le Monde</td>\n",
       "      <td>https://www.lemonde.fr/economie/article/2024/0...</td>\n",
       "      <td>L’agence de notation Moody’s a jugé, mercredi ...</td>\n",
       "      <td>economie</td>\n",
       "      <td>2024-03-27 15:11:12</td>\n",
       "      <td>2 stars</td>\n",
       "      <td>negative</td>\n",
       "    </tr>\n",
       "  </tbody>\n",
       "</table>\n",
       "</div>"
      ],
      "text/plain": [
       "                                               title  \\\n",
       "0  Attentat de Moscou : en Turquie, la traque des...   \n",
       "1  Les responsables de « Quotidien » assurent que...   \n",
       "2  Gabriel Attal et la « théorie du chômage volon...   \n",
       "3  Andriy Kostin, procureur général d’Ukraine : «...   \n",
       "4  Moody’s juge « improbable » que la France tien...   \n",
       "\n",
       "                      published_at    source  \\\n",
       "0  Wed, 27 Mar 2024 10:42:00 +0100  Le Monde   \n",
       "1  Wed, 27 Mar 2024 12:44:58 +0100  Le Monde   \n",
       "2  Wed, 27 Mar 2024 09:22:11 +0100  Le Monde   \n",
       "3  Wed, 27 Mar 2024 10:00:02 +0100  Le Monde   \n",
       "4  Wed, 27 Mar 2024 15:11:12 +0100  Le Monde   \n",
       "\n",
       "                                                link  \\\n",
       "0  https://www.lemonde.fr/international/article/2...   \n",
       "1  https://www.lemonde.fr/actualite-medias/articl...   \n",
       "2  https://www.lemonde.fr/politique/article/2024/...   \n",
       "3  https://www.lemonde.fr/idees/article/2024/03/2...   \n",
       "4  https://www.lemonde.fr/economie/article/2024/0...   \n",
       "\n",
       "                                             content          category  \\\n",
       "0  La nouvelle est tombée peu après midi. Dans la...     international   \n",
       "1  Les responsables de l’émission « Quotidien », ...  actualite-medias   \n",
       "2  Depuis son arrivée à Matignon, Gabriel Attal e...         politique   \n",
       "3  Les Ukrainiens sont sur la ligne de front, et ...             idees   \n",
       "4  L’agence de notation Moody’s a jugé, mercredi ...          economie   \n",
       "\n",
       "                 date sentiment_label sentiment_category  \n",
       "0 2024-03-27 10:42:00         4 stars           positive  \n",
       "1 2024-03-27 12:44:58         4 stars           positive  \n",
       "2 2024-03-27 09:22:11         4 stars           positive  \n",
       "3 2024-03-27 10:00:02          1 star      very negative  \n",
       "4 2024-03-27 15:11:12         2 stars           negative  "
      ]
     },
     "execution_count": 1,
     "metadata": {},
     "output_type": "execute_result"
    }
   ],
   "source": [
    "import newsManager as news\n",
    "\n",
    "df = news.get_articles()\n",
    "df.head()"
   ]
  },
  {
   "cell_type": "code",
   "execution_count": 2,
   "metadata": {},
   "outputs": [
    {
     "data": {
      "text/plain": [
       "Le Point       104\n",
       "La Croix        50\n",
       "France Info     30\n",
       "BFM TV          30\n",
       "20 Minutes      24\n",
       "France Bleu     22\n",
       "Le Figaro       20\n",
       "Le Monde        18\n",
       "Name: source, dtype: int64"
      ]
     },
     "execution_count": 2,
     "metadata": {},
     "output_type": "execute_result"
    }
   ],
   "source": [
    "df['source'].value_counts()\n"
   ]
  },
  {
   "cell_type": "code",
   "execution_count": 5,
   "metadata": {},
   "outputs": [
    {
     "name": "stdout",
     "output_type": "stream",
     "text": [
      "<class 'pandas.core.frame.DataFrame'>\n",
      "RangeIndex: 300 entries, 0 to 299\n",
      "Data columns (total 7 columns):\n",
      " #   Column        Non-Null Count  Dtype         \n",
      "---  ------        --------------  -----         \n",
      " 0   title         300 non-null    object        \n",
      " 1   published_at  300 non-null    object        \n",
      " 2   source        300 non-null    object        \n",
      " 3   link          300 non-null    object        \n",
      " 4   content       300 non-null    object        \n",
      " 5   category      300 non-null    object        \n",
      " 6   date          300 non-null    datetime64[ns]\n",
      "dtypes: datetime64[ns](1), object(6)\n",
      "memory usage: 16.5+ KB\n"
     ]
    }
   ],
   "source": [
    "df.info()"
   ]
  },
  {
   "cell_type": "code",
   "execution_count": 3,
   "metadata": {},
   "outputs": [
    {
     "data": {
      "text/plain": [
       "france                                                                                                      45\n",
       "monde                                                                                                       35\n",
       "actualites                                                                                                  30\n",
       "societe                                                                                                     24\n",
       "politique                                                                                                   17\n",
       "economie                                                                                                    15\n",
       "infos                                                                                                       12\n",
       "culture                                                                                                     11\n",
       "people                                                                                                       7\n",
       "faits-divers                                                                                                 6\n",
       "sante                                                                                                        5\n",
       "international                                                                                                5\n",
       "sport                                                                                                        5\n",
       "education                                                                                                    4\n",
       "afrique                                                                                                      4\n",
       "actualite-france                                                                                             4\n",
       "faits_divers                                                                                                 4\n",
       "postillon                                                                                                    4\n",
       "emissions                                                                                                    3\n",
       "sports                                                                                                       3\n",
       "conjoncture                                                                                                  3\n",
       "social                                                                                                       3\n",
       "editos-du-point                                                                                              3\n",
       "montres                                                                                                      3\n",
       "eureka                                                                                                       2\n",
       "automobile                                                                                                   2\n",
       "vie-quotidienne                                                                                              2\n",
       "a-vif                                                                                                        2\n",
       "evenements                                                                                                   2\n",
       "arts-stars                                                                                                   2\n",
       "meteo                                                                                                        2\n",
       "les-jeux-olympiques                                                                                          2\n",
       "pop-culture                                                                                                  2\n",
       "livres                                                                                                       1\n",
       "plusieurs-operations-place-nette-xxl-anti-drogue-lancees-en-france-20240325                                  1\n",
       "nantes                                                                                                       1\n",
       "vox                                                                                                          1\n",
       "flash-actu                                                                                                   1\n",
       "idees                                                                                                        1\n",
       "emploi                                                                                                       1\n",
       "elections                                                                                                    1\n",
       "sciences                                                                                                     1\n",
       "paris                                                                                                        1\n",
       "musique                                                                                                      1\n",
       "vie-pro                                                                                                      1\n",
       "le-gouvernement-rehausse-le-niveau-vigipirate-a-urgence-attentat-apres-l-attaque-a-moscou-attal-20240324     1\n",
       "high-tech-internet                                                                                           1\n",
       "actualite-medias                                                                                             1\n",
       "replay-radio                                                                                                 1\n",
       "planete                                                                                                      1\n",
       "podcast                                                                                                      1\n",
       "environnement                                                                                                1\n",
       "debats                                                                                                       1\n",
       "gastronomie                                                                                                  1\n",
       "actu-du-jour                                                                                                 1\n",
       "justice                                                                                                      1\n",
       "science                                                                                                      1\n",
       "cuisine                                                                                                      1\n",
       "Name: category, dtype: int64"
      ]
     },
     "execution_count": 3,
     "metadata": {},
     "output_type": "execute_result"
    }
   ],
   "source": [
    "df['category'].value_counts()"
   ]
  },
  {
   "cell_type": "code",
   "execution_count": 9,
   "metadata": {},
   "outputs": [],
   "source": [
    "df.to_csv('articles.csv', index=False, mode='a')"
   ]
  }
 ],
 "metadata": {
  "kernelspec": {
   "display_name": "Python 3",
   "language": "python",
   "name": "python3"
  },
  "language_info": {
   "codemirror_mode": {
    "name": "ipython",
    "version": 3
   },
   "file_extension": ".py",
   "mimetype": "text/x-python",
   "name": "python",
   "nbconvert_exporter": "python",
   "pygments_lexer": "ipython3",
   "version": "3.10.10"
  }
 },
 "nbformat": 4,
 "nbformat_minor": 2
}
