{
 "cells": [
  {
   "cell_type": "code",
   "execution_count": 1,
   "metadata": {},
   "outputs": [
    {
     "name": "stderr",
     "output_type": "stream",
     "text": [
      "c:\\Users\\karim.HOME\\AppData\\Local\\Programs\\Python\\Python310\\lib\\site-packages\\tqdm\\auto.py:22: TqdmWarning: IProgress not found. Please update jupyter and ipywidgets. See https://ipywidgets.readthedocs.io/en/stable/user_install.html\n",
      "  from .autonotebook import tqdm as notebook_tqdm\n"
     ]
    },
    {
     "data": {
      "text/html": [
       "<div>\n",
       "<style scoped>\n",
       "    .dataframe tbody tr th:only-of-type {\n",
       "        vertical-align: middle;\n",
       "    }\n",
       "\n",
       "    .dataframe tbody tr th {\n",
       "        vertical-align: top;\n",
       "    }\n",
       "\n",
       "    .dataframe thead th {\n",
       "        text-align: right;\n",
       "    }\n",
       "</style>\n",
       "<table border=\"1\" class=\"dataframe\">\n",
       "  <thead>\n",
       "    <tr style=\"text-align: right;\">\n",
       "      <th></th>\n",
       "      <th>title</th>\n",
       "      <th>published_at</th>\n",
       "      <th>source</th>\n",
       "      <th>link</th>\n",
       "      <th>content</th>\n",
       "    </tr>\n",
       "  </thead>\n",
       "  <tbody>\n",
       "    <tr>\n",
       "      <th>0</th>\n",
       "      <td>En direct, guerre en Ukraine : Emmanuel Macron...</td>\n",
       "      <td>Tue, 27 Feb 2024 14:03:54 +0100</td>\n",
       "      <td>Le Monde</td>\n",
       "      <td>https://www.lemonde.fr/international/live/2024...</td>\n",
       "      <td>Live  animé par Pierre Bouvier Lire tous no...</td>\n",
       "    </tr>\n",
       "    <tr>\n",
       "      <th>1</th>\n",
       "      <td>Européennes : François-Xavier Bellamy sillonne...</td>\n",
       "      <td>Tue, 27 Feb 2024 11:00:08 +0100</td>\n",
       "      <td>Le Monde</td>\n",
       "      <td>https://www.lemonde.fr/politique/article/2024/...</td>\n",
       "      <td>Depuis le lancement de sa campagne pour les él...</td>\n",
       "    </tr>\n",
       "    <tr>\n",
       "      <th>2</th>\n",
       "      <td>Un an après le naufrage du « Summer-Love », l’...</td>\n",
       "      <td>Tue, 27 Feb 2024 12:00:04 +0100</td>\n",
       "      <td>Le Monde</td>\n",
       "      <td>https://www.lemonde.fr/international/article/2...</td>\n",
       "      <td>Temps de Lecture 4 min. Article réservé aux ...</td>\n",
       "    </tr>\n",
       "    <tr>\n",
       "      <th>3</th>\n",
       "      <td>Au Royaume-Uni, la guerre à Gaza alimente les ...</td>\n",
       "      <td>Tue, 27 Feb 2024 11:00:27 +0100</td>\n",
       "      <td>Le Monde</td>\n",
       "      <td>https://www.lemonde.fr/international/article/2...</td>\n",
       "      <td>La guerre d’Israël à Gaza aggrave les tensions...</td>\n",
       "    </tr>\n",
       "    <tr>\n",
       "      <th>4</th>\n",
       "      <td>Le Parlement européen adopte le règlement sur ...</td>\n",
       "      <td>Tue, 27 Feb 2024 15:26:28 +0100</td>\n",
       "      <td>Le Monde</td>\n",
       "      <td>https://www.lemonde.fr/planete/article/2024/02...</td>\n",
       "      <td>Malgré la farouche opposition de la droite et ...</td>\n",
       "    </tr>\n",
       "  </tbody>\n",
       "</table>\n",
       "</div>"
      ],
      "text/plain": [
       "                                               title  \\\n",
       "0  En direct, guerre en Ukraine : Emmanuel Macron...   \n",
       "1  Européennes : François-Xavier Bellamy sillonne...   \n",
       "2  Un an après le naufrage du « Summer-Love », l’...   \n",
       "3  Au Royaume-Uni, la guerre à Gaza alimente les ...   \n",
       "4  Le Parlement européen adopte le règlement sur ...   \n",
       "\n",
       "                      published_at    source  \\\n",
       "0  Tue, 27 Feb 2024 14:03:54 +0100  Le Monde   \n",
       "1  Tue, 27 Feb 2024 11:00:08 +0100  Le Monde   \n",
       "2  Tue, 27 Feb 2024 12:00:04 +0100  Le Monde   \n",
       "3  Tue, 27 Feb 2024 11:00:27 +0100  Le Monde   \n",
       "4  Tue, 27 Feb 2024 15:26:28 +0100  Le Monde   \n",
       "\n",
       "                                                link  \\\n",
       "0  https://www.lemonde.fr/international/live/2024...   \n",
       "1  https://www.lemonde.fr/politique/article/2024/...   \n",
       "2  https://www.lemonde.fr/international/article/2...   \n",
       "3  https://www.lemonde.fr/international/article/2...   \n",
       "4  https://www.lemonde.fr/planete/article/2024/02...   \n",
       "\n",
       "                                             content  \n",
       "0     Live  animé par Pierre Bouvier Lire tous no...  \n",
       "1  Depuis le lancement de sa campagne pour les él...  \n",
       "2    Temps de Lecture 4 min. Article réservé aux ...  \n",
       "3  La guerre d’Israël à Gaza aggrave les tensions...  \n",
       "4  Malgré la farouche opposition de la droite et ...  "
      ]
     },
     "execution_count": 1,
     "metadata": {},
     "output_type": "execute_result"
    }
   ],
   "source": [
    "import newsManager as news\n",
    "\n",
    "df = news.get_articles()\n",
    "df.head()"
   ]
  },
  {
   "cell_type": "code",
   "execution_count": 4,
   "metadata": {},
   "outputs": [
    {
     "data": {
      "text/plain": [
       "Le Monde    18\n",
       "Name: source, dtype: int64"
      ]
     },
     "execution_count": 4,
     "metadata": {},
     "output_type": "execute_result"
    }
   ],
   "source": [
    "df['source'].value_counts()\n"
   ]
  },
  {
   "cell_type": "code",
   "execution_count": 5,
   "metadata": {},
   "outputs": [
    {
     "data": {
      "text/html": [
       "<div>\n",
       "<style scoped>\n",
       "    .dataframe tbody tr th:only-of-type {\n",
       "        vertical-align: middle;\n",
       "    }\n",
       "\n",
       "    .dataframe tbody tr th {\n",
       "        vertical-align: top;\n",
       "    }\n",
       "\n",
       "    .dataframe thead th {\n",
       "        text-align: right;\n",
       "    }\n",
       "</style>\n",
       "<table border=\"1\" class=\"dataframe\">\n",
       "  <thead>\n",
       "    <tr style=\"text-align: right;\">\n",
       "      <th></th>\n",
       "      <th>title</th>\n",
       "      <th>published_at</th>\n",
       "      <th>source</th>\n",
       "      <th>link</th>\n",
       "      <th>content</th>\n",
       "      <th>category</th>\n",
       "    </tr>\n",
       "  </thead>\n",
       "  <tbody>\n",
       "    <tr>\n",
       "      <th>0</th>\n",
       "      <td>En direct, guerre en Ukraine : Emmanuel Macron...</td>\n",
       "      <td>Tue, 27 Feb 2024 14:03:54 +0100</td>\n",
       "      <td>Le Monde</td>\n",
       "      <td>https://www.lemonde.fr/international/live/2024...</td>\n",
       "      <td>Live  animé par Pierre Bouvier Lire tous no...</td>\n",
       "      <td>économie</td>\n",
       "    </tr>\n",
       "    <tr>\n",
       "      <th>1</th>\n",
       "      <td>Européennes : François-Xavier Bellamy sillonne...</td>\n",
       "      <td>Tue, 27 Feb 2024 11:00:08 +0100</td>\n",
       "      <td>Le Monde</td>\n",
       "      <td>https://www.lemonde.fr/politique/article/2024/...</td>\n",
       "      <td>Depuis le lancement de sa campagne pour les él...</td>\n",
       "      <td>politique</td>\n",
       "    </tr>\n",
       "    <tr>\n",
       "      <th>2</th>\n",
       "      <td>Un an après le naufrage du « Summer-Love », l’...</td>\n",
       "      <td>Tue, 27 Feb 2024 12:00:04 +0100</td>\n",
       "      <td>Le Monde</td>\n",
       "      <td>https://www.lemonde.fr/international/article/2...</td>\n",
       "      <td>Temps de Lecture 4 min. Article réservé aux ...</td>\n",
       "      <td>économie</td>\n",
       "    </tr>\n",
       "    <tr>\n",
       "      <th>3</th>\n",
       "      <td>Au Royaume-Uni, la guerre à Gaza alimente les ...</td>\n",
       "      <td>Tue, 27 Feb 2024 11:00:27 +0100</td>\n",
       "      <td>Le Monde</td>\n",
       "      <td>https://www.lemonde.fr/international/article/2...</td>\n",
       "      <td>La guerre d’Israël à Gaza aggrave les tensions...</td>\n",
       "      <td>politique</td>\n",
       "    </tr>\n",
       "    <tr>\n",
       "      <th>4</th>\n",
       "      <td>Le Parlement européen adopte le règlement sur ...</td>\n",
       "      <td>Tue, 27 Feb 2024 15:26:28 +0100</td>\n",
       "      <td>Le Monde</td>\n",
       "      <td>https://www.lemonde.fr/planete/article/2024/02...</td>\n",
       "      <td>Malgré la farouche opposition de la droite et ...</td>\n",
       "      <td>économie</td>\n",
       "    </tr>\n",
       "  </tbody>\n",
       "</table>\n",
       "</div>"
      ],
      "text/plain": [
       "                                               title  \\\n",
       "0  En direct, guerre en Ukraine : Emmanuel Macron...   \n",
       "1  Européennes : François-Xavier Bellamy sillonne...   \n",
       "2  Un an après le naufrage du « Summer-Love », l’...   \n",
       "3  Au Royaume-Uni, la guerre à Gaza alimente les ...   \n",
       "4  Le Parlement européen adopte le règlement sur ...   \n",
       "\n",
       "                      published_at    source  \\\n",
       "0  Tue, 27 Feb 2024 14:03:54 +0100  Le Monde   \n",
       "1  Tue, 27 Feb 2024 11:00:08 +0100  Le Monde   \n",
       "2  Tue, 27 Feb 2024 12:00:04 +0100  Le Monde   \n",
       "3  Tue, 27 Feb 2024 11:00:27 +0100  Le Monde   \n",
       "4  Tue, 27 Feb 2024 15:26:28 +0100  Le Monde   \n",
       "\n",
       "                                                link  \\\n",
       "0  https://www.lemonde.fr/international/live/2024...   \n",
       "1  https://www.lemonde.fr/politique/article/2024/...   \n",
       "2  https://www.lemonde.fr/international/article/2...   \n",
       "3  https://www.lemonde.fr/international/article/2...   \n",
       "4  https://www.lemonde.fr/planete/article/2024/02...   \n",
       "\n",
       "                                             content   category  \n",
       "0     Live  animé par Pierre Bouvier Lire tous no...   économie  \n",
       "1  Depuis le lancement de sa campagne pour les él...  politique  \n",
       "2    Temps de Lecture 4 min. Article réservé aux ...   économie  \n",
       "3  La guerre d’Israël à Gaza aggrave les tensions...  politique  \n",
       "4  Malgré la farouche opposition de la droite et ...   économie  "
      ]
     },
     "execution_count": 5,
     "metadata": {},
     "output_type": "execute_result"
    }
   ],
   "source": [
    "df[\"category\"] = df[\"content\"].apply(news.get_category)\n",
    "df.head()"
   ]
  },
  {
   "cell_type": "code",
   "execution_count": 6,
   "metadata": {},
   "outputs": [
    {
     "data": {
      "text/plain": [
       "économie       9\n",
       "politique      7\n",
       "technologie    2\n",
       "Name: category, dtype: int64"
      ]
     },
     "execution_count": 6,
     "metadata": {},
     "output_type": "execute_result"
    }
   ],
   "source": [
    "df['category'].value_counts()"
   ]
  }
 ],
 "metadata": {
  "kernelspec": {
   "display_name": "Python 3",
   "language": "python",
   "name": "python3"
  },
  "language_info": {
   "codemirror_mode": {
    "name": "ipython",
    "version": 3
   },
   "file_extension": ".py",
   "mimetype": "text/x-python",
   "name": "python",
   "nbconvert_exporter": "python",
   "pygments_lexer": "ipython3",
   "version": "3.10.10"
  }
 },
 "nbformat": 4,
 "nbformat_minor": 2
}
